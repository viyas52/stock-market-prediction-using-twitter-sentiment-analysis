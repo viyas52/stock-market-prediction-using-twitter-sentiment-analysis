{
  "nbformat": 4,
  "nbformat_minor": 0,
  "metadata": {
    "colab": {
      "provenance": [],
      "authorship_tag": "ABX9TyPircFAyRwEWYVqVunRFYD2",
      "include_colab_link": true
    },
    "kernelspec": {
      "name": "python3",
      "display_name": "Python 3"
    },
    "language_info": {
      "name": "python"
    }
  },
  "cells": [
    {
      "cell_type": "markdown",
      "metadata": {
        "id": "view-in-github",
        "colab_type": "text"
      },
      "source": [
        "<a href=\"https://colab.research.google.com/github/viyas52/stock-market-prediction-using-twitter-sentiment-analysis/blob/main/cleaner.ipynb\" target=\"_parent\"><img src=\"https://colab.research.google.com/assets/colab-badge.svg\" alt=\"Open In Colab\"/></a>"
      ]
    },
    {
      "cell_type": "code",
      "source": [
        "!pip install emoji"
      ],
      "metadata": {
        "colab": {
          "base_uri": "https://localhost:8080/"
        },
        "id": "SR9aSble5XJm",
        "outputId": "ccecb598-53b2-4988-be64-0f4f68326658"
      },
      "execution_count": 2,
      "outputs": [
        {
          "output_type": "stream",
          "name": "stdout",
          "text": [
            "Collecting emoji\n",
            "  Downloading emoji-2.14.1-py3-none-any.whl.metadata (5.7 kB)\n",
            "Downloading emoji-2.14.1-py3-none-any.whl (590 kB)\n",
            "\u001b[?25l   \u001b[90m━━━━━━━━━━━━━━━━━━━━━━━━━━━━━━━━━━━━━━━━\u001b[0m \u001b[32m0.0/590.6 kB\u001b[0m \u001b[31m?\u001b[0m eta \u001b[36m-:--:--\u001b[0m\r\u001b[2K   \u001b[90m━━━━━━━━━━━━━━━━━━━━━━━━━━━━━━━━━━━━━━━━\u001b[0m \u001b[32m590.6/590.6 kB\u001b[0m \u001b[31m24.9 MB/s\u001b[0m eta \u001b[36m0:00:00\u001b[0m\n",
            "\u001b[?25hInstalling collected packages: emoji\n",
            "Successfully installed emoji-2.14.1\n"
          ]
        }
      ]
    },
    {
      "cell_type": "code",
      "execution_count": 3,
      "metadata": {
        "colab": {
          "base_uri": "https://localhost:8080/"
        },
        "id": "ogO-BtN84crH",
        "outputId": "64abcff6-8cf5-4103-b91c-cafa810b964b"
      },
      "outputs": [
        {
          "output_type": "stream",
          "name": "stderr",
          "text": [
            "/usr/local/lib/python3.11/dist-packages/pandas/core/strings/object_array.py:172: FutureWarning: Possible nested set at position 1\n",
            "  pat = re.compile(pat, flags=flags)\n",
            "<ipython-input-3-6946bcfb9958>:15: UserWarning: Could not infer format, so each element will be parsed individually, falling back to `dateutil`. To ensure parsing is consistent and as-expected, please specify a format.\n",
            "  data['createdAt'] = pd.to_datetime(data['createdAt'])\n"
          ]
        },
        {
          "output_type": "stream",
          "name": "stdout",
          "text": [
            "Preprocessed data saved to cleaned_twitter_data.csv\n"
          ]
        }
      ],
      "source": [
        "import pandas as pd\n",
        "from preprocess import Preprocess_Tweets\n",
        "\n",
        "csv_file = \"12.3-18.3.csv\"\n",
        "data = pd.read_csv(csv_file)\n",
        "\n",
        "\n",
        "if 'createdAt' not in data.columns:\n",
        "    raise ValueError(\"The dataset does not contain a 'created_at' column.\")\n",
        "\n",
        "# Preprocess the tweets\n",
        "data = Preprocess_Tweets(data)\n",
        "\n",
        "\n",
        "data['createdAt'] = pd.to_datetime(data['createdAt'])\n",
        "\n",
        "\n",
        "output_file = \"cleaned_twitter_data.csv\"\n",
        "data.to_csv(output_file, index=False)\n",
        "\n",
        "print(f\"Preprocessed data saved to {output_file}\")"
      ]
    }
  ]
}