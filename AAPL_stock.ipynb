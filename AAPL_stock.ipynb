{
  "nbformat": 4,
  "nbformat_minor": 0,
  "metadata": {
    "colab": {
      "provenance": [],
      "authorship_tag": "ABX9TyPE/opjNtJlmrSTPAGXD+E1",
      "include_colab_link": true
    },
    "kernelspec": {
      "name": "python3",
      "display_name": "Python 3"
    },
    "language_info": {
      "name": "python"
    }
  },
  "cells": [
    {
      "cell_type": "markdown",
      "metadata": {
        "id": "view-in-github",
        "colab_type": "text"
      },
      "source": [
        "<a href=\"https://colab.research.google.com/github/viyas52/stock-market-prediction-using-twitter-sentiment-analysis/blob/main/AAPL_stock.ipynb\" target=\"_parent\"><img src=\"https://colab.research.google.com/assets/colab-badge.svg\" alt=\"Open In Colab\"/></a>"
      ]
    },
    {
      "cell_type": "code",
      "execution_count": 4,
      "metadata": {
        "colab": {
          "base_uri": "https://localhost:8080/"
        },
        "id": "VRtIMhem5_p6",
        "outputId": "87163128-9635-4292-a11a-1d406245d465"
      },
      "outputs": [
        {
          "output_type": "stream",
          "name": "stderr",
          "text": [
            "\r[*********************100%***********************]  1 of 1 completed"
          ]
        },
        {
          "output_type": "stream",
          "name": "stdout",
          "text": [
            "Apple stock data saved successfully!\n",
            "Price        Date        Open        High         Low       Close    Volume\n",
            "Ticker                   AAPL        AAPL        AAPL        AAPL      AAPL\n",
            "0      2024-01-02  186.033072  187.315382  182.792533  184.532089  82488700\n",
            "1      2024-01-03  183.120571  184.770668  182.335277  183.150391  58414500\n",
            "2      2024-01-04  181.062914  181.997307  179.800504  180.824356  71983600\n",
            "3      2024-01-05  180.903872  181.669266  179.094727  180.098694  62303300\n",
            "4      2024-01-08  181.003268  184.492330  180.416793  184.452560  59144500\n"
          ]
        },
        {
          "output_type": "stream",
          "name": "stderr",
          "text": [
            "\n"
          ]
        }
      ],
      "source": [
        "import yfinance as yf\n",
        "import pandas as pd\n",
        "\n",
        "\n",
        "df = yf.download(\"AAPL\", start=\"2024-01-01\", end=\"2025-03-18\")\n",
        "\n",
        "df.reset_index(inplace=True)\n",
        "\n",
        "\n",
        "available_columns = ['Date', 'Open', 'High', 'Low', 'Close', 'Volume']\n",
        "df = df[[col for col in available_columns if col in df.columns]]\n",
        "\n",
        "df.to_csv(\"apple_stock.csv\", index=False)\n",
        "print(\"Apple stock data saved successfully!\")\n",
        "\n",
        "\n",
        "print(df.head())"
      ]
    },
    {
      "cell_type": "code",
      "source": [
        "import pandas as pd\n",
        "\n",
        "df = pd.read_csv(\"apple_stock.csv\")\n",
        "\n",
        "\n",
        "df[\"Date\"] = pd.to_datetime(df[\"Date\"])\n",
        "df = df.sort_values(\"Date\")\n",
        "\n",
        "\n",
        "df[\"Close\"] = pd.to_numeric(df[\"Close\"], errors=\"coerce\")\n",
        "\n",
        "df[\"Sentiment\"] = (df[\"Close\"].diff() > 0).astype(int)\n",
        "\n",
        "df.to_csv(\"apple_stock_senti.csv\", index=False)\n",
        "\n",
        "print(df.head())"
      ],
      "metadata": {
        "colab": {
          "base_uri": "https://localhost:8080/"
        },
        "id": "_yLS9EBn7XwK",
        "outputId": "c3dc4a1c-59eb-4f39-846d-c7b8e7833dfb"
      },
      "execution_count": 5,
      "outputs": [
        {
          "output_type": "stream",
          "name": "stdout",
          "text": [
            "        Date                Open                High                 Low  \\\n",
            "1 2024-01-02  186.03307200647276  187.31538170646215  182.79253333369908   \n",
            "2 2024-01-03   183.1205708792931  184.77066759112085   182.3352771284137   \n",
            "3 2024-01-04  181.06291404030495  181.99730650228184  179.80050438167336   \n",
            "4 2024-01-05  180.90387243418792   181.6692660827433  179.09472708075188   \n",
            "5 2024-01-08   181.0032684531674  184.49233019548157  180.41679326133186   \n",
            "\n",
            "        Close    Volume  Sentiment  \n",
            "1  184.532089  82488700          0  \n",
            "2  183.150391  58414500          0  \n",
            "3  180.824356  71983600          0  \n",
            "4  180.098694  62303300          0  \n",
            "5  184.452560  59144500          1  \n"
          ]
        }
      ]
    },
    {
      "cell_type": "markdown",
      "source": [
        "combining the aggregated tweets data historical stock data\n"
      ],
      "metadata": {
        "id": "Qtqj5AFM7mCn"
      }
    },
    {
      "cell_type": "code",
      "source": [
        "import pandas as pd\n",
        "\n",
        "stock_df = pd.read_csv(\"apple_stock_senti.csv\")\n",
        "agg_senti_df = pd.read_csv(\"aggregated_senti.csv\")\n",
        "\n",
        "stock_df[\"Date\"] = pd.to_datetime(stock_df[\"Date\"])\n",
        "agg_senti_df[\"Date\"] = pd.to_datetime(agg_senti_df[\"Date\"])\n",
        "\n",
        "senti_dict = agg_senti_df.set_index(\"Date\")[\"Sentiment\"].to_dict()\n",
        "\n",
        "stock_df[\"Sentiment\"] = stock_df[\"Date\"].map(senti_dict).fillna(stock_df[\"Sentiment\"])\n",
        "\n",
        "stock_df.to_csv(\"model.csv\", index=False)\n",
        "\n",
        "print(\"Sentiment values replaced successfully!\")\n"
      ],
      "metadata": {
        "colab": {
          "base_uri": "https://localhost:8080/"
        },
        "id": "CPe6pA6C7lwY",
        "outputId": "57911aaa-d998-47e6-9c5d-91f6cf06799c"
      },
      "execution_count": 7,
      "outputs": [
        {
          "output_type": "stream",
          "name": "stdout",
          "text": [
            "Sentiment values replaced successfully!\n"
          ]
        }
      ]
    }
  ]
}